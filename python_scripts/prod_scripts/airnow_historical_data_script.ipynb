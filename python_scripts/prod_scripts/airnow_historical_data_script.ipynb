{
 "cells": [
  {
   "cell_type": "markdown",
   "id": "09648cfe",
   "metadata": {},
   "source": [
    "# AirNow API Historical Data Pull Python Script\n",
    "The below Python script will detail how to pull historical data from the AirNow API and write the data to a BigQuery table."
   ]
  },
  {
   "cell_type": "code",
   "execution_count": 1,
   "id": "98ef937b",
   "metadata": {},
   "outputs": [
    {
     "name": "stdout",
     "output_type": "stream",
     "text": [
      "Successfully authenticated! Found 3 dataset(s) in project key-polymer-434418-m6.\n",
      "- airnow_analytics\n",
      "- airnow_raw\n",
      "- airnow_staging\n"
     ]
    }
   ],
   "source": [
    "# Authenticate GCP script\n",
    "# Install packages\n",
    "from google.cloud import bigquery\n",
    "from google.oauth2 import service_account\n",
    "\n",
    "# Service account JSON key file path\n",
    "service_acct_path = r'SERVICE_ACCOUNT_PATH'\n",
    "\n",
    "credentials = service_account.Credentials.from_service_account_file(service_acct_path)\n",
    "\n",
    "# Initialize BigQuery client\n",
    "project_id = 'key-polymer-434418-m6'\n",
    "bq_client = bigquery.Client(credentials=credentials, project=project_id)\n",
    "\n",
    "# Authentication check by listing datasets in the project\n",
    "try:\n",
    "    datasets = list(bq_client.list_datasets())  # Get list of datasets in the project\n",
    "    if datasets:\n",
    "        print(f\"Successfully authenticated! Found {len(datasets)} dataset(s) in project {project_id}.\")\n",
    "        for dataset in datasets:\n",
    "            print(f\"- {dataset.dataset_id}\")\n",
    "    else:\n",
    "        print(f\"Successfully authenticated, but no datasets found in project {project_id}.\")\n",
    "except Exception as e:\n",
    "    print(f\"Failed to authenticate or access BigQuery: {e}\")"
   ]
  },
  {
   "cell_type": "code",
   "execution_count": 2,
   "id": "fb1b9f33",
   "metadata": {},
   "outputs": [],
   "source": [
    "# Iterate through dates for AirNow API Query script\n",
    "# Install Packages\n",
    "import pandas as pd\n",
    "import requests\n",
    "from datetime import datetime, timedelta\n",
    "\n",
    "API_KEY = 'API_KEY'\n",
    "BASE_URL = 'https://www.airnowapi.org/aq/observation/zipCode/historical/'\n",
    "\n",
    "# Function to retrieve AirNow data\n",
    "def get_air_quality_data(start_date, end_date, zip_code='96150'):\n",
    "    # Convert the input dates to datetime objects\n",
    "    start_date = datetime.strptime(start_date, '%Y-%m-%d')\n",
    "    end_date = datetime.strptime(end_date, '%Y-%m-%d')\n",
    "\n",
    "    # List to store all data\n",
    "    all_data = []\n",
    "\n",
    "    # Base URL for the AirNow API\n",
    "    url_hist = 'https://www.airnowapi.org/aq/observation/zipCode/historical/'\n",
    "\n",
    "    # Loop through the date range\n",
    "    current_date = start_date\n",
    "    while current_date <= end_date:\n",
    "        # Format the current date as required by the API\n",
    "        date_str = current_date.strftime('%Y-%m-%dT00-0000')\n",
    "\n",
    "        # Parameters for the API request\n",
    "        params_hist = {\n",
    "            'format': 'application/json',\n",
    "            'zipCode': zip_code,  # Default to South Lake Tahoe, CA\n",
    "            'date': date_str,\n",
    "            'distance': '25',\n",
    "            'API_KEY': API_KEY\n",
    "        }\n",
    "\n",
    "        # Make the request\n",
    "        response_hist = requests.get(url_hist, params=params_hist)\n",
    "\n",
    "        # Check if the request was successful\n",
    "        if response_hist.status_code == 200:\n",
    "            data_hist = response_hist.json()\n",
    "\n",
    "            # Add the data to the list if any records were returned\n",
    "            if data_hist:\n",
    "                all_data.extend(data_hist)\n",
    "        else:\n",
    "            print(f\"Failed to retrieve data for {date_str}. Status code: {response_hist.status_code}\")\n",
    "\n",
    "        # Move to the next day\n",
    "        current_date += timedelta(days=1)\n",
    "\n",
    "    # Convert the list of data into a DataFrame\n",
    "    df_hist = pd.DataFrame(all_data)\n",
    "\n",
    "    # Return the DataFrame\n",
    "    return df_hist\n",
    "\n",
    "# Example usage:\n",
    "# Define the start and end dates\n",
    "#start_date = '2024-01-01'  # Example start date\n",
    "#end_date = '2024-01-02'    # Example end date\n",
    "\n",
    "# Call the function to retrieve data for the specified date range\n",
    "#df_hist = get_air_quality_data(start_date, end_date)\n",
    "\n",
    "# Display the DataFrame\n",
    "#df_hist"
   ]
  },
  {
   "cell_type": "code",
   "execution_count": 3,
   "id": "21e4eb99",
   "metadata": {},
   "outputs": [],
   "source": [
    "# Transform all columns to string except for 'DateObserved' (further transformations will be done with dbt)\n",
    "def transform_date_data(df):\n",
    "    # Convert all object and float64 columns to strings to avoid issues\n",
    "    df = df.astype(str)\n",
    "    # Convert specific columns to strings and handle NaNs\n",
    "    df = df.fillna('').astype(str)\n",
    "    df['DateObserved'] = pd.to_datetime(df['DateObserved'])\n",
    "    return df\n",
    "\n",
    "#df_transformed = transform_date_data(df_hist)\n",
    "#df_transformed"
   ]
  },
  {
   "cell_type": "code",
   "execution_count": 4,
   "id": "6d259338",
   "metadata": {},
   "outputs": [],
   "source": [
    "# Create BigQuery table with Partitioning\n",
    "def create_bq_table(client, dataset_id, table_id):\n",
    "    dataset_ref = client.dataset(dataset_id)\n",
    "    schema = [\n",
    "        bigquery.SchemaField('DateObserved', 'TIMESTAMP'),\n",
    "        bigquery.SchemaField('HourObserved', 'STRING'),\n",
    "        bigquery.SchemaField('LocalTimeZone', 'STRING'),\n",
    "        bigquery.SchemaField('ReportingArea', 'STRING'),\n",
    "        bigquery.SchemaField('StateCode', 'STRING'),\n",
    "        bigquery.SchemaField('Latitude', 'STRING'),\n",
    "        bigquery.SchemaField('Longitude', 'STRING'),\n",
    "        bigquery.SchemaField('ParameterName', 'STRING'),\n",
    "        bigquery.SchemaField('AQI', 'STRING'),\n",
    "        bigquery.SchemaField('Category', 'STRING')\n",
    "    ]\n",
    "    \n",
    "    table = bigquery.Table(dataset_ref.table(table_id), schema=schema)\n",
    "    table.time_partitioning = bigquery.TimePartitioning(\n",
    "        field='DateObserved'\n",
    "    )\n",
    "    client.create_table(table, exists_ok=True)\n",
    "    print(f\"Table {table_id} created or already exists.\")\n",
    "\n",
    "# Example:\n",
    "#create_bq_table(bq_client, 'your_dataset', 'airnow_hist_raw')"
   ]
  },
  {
   "cell_type": "code",
   "execution_count": 5,
   "id": "364f3a04",
   "metadata": {},
   "outputs": [],
   "source": [
    "# Load DataFrame (historical data) into BigQuery\n",
    "def load_data_to_bq(client, df, dataset_id, table_id):\n",
    "    table_ref = client.dataset(dataset_id).table(table_id)\n",
    "    job = client.load_table_from_dataframe(df, table_ref)\n",
    "    job.result()  # Wait for the job to complete\n",
    "    print(f\"Loaded {df.shape[0]} rows into {table_id}.\")\n",
    "\n",
    "# Example:\n",
    "#load_data_to_bq(bq_client, df_transformed, 'your_dataset', 'airnow_hist_raw')"
   ]
  },
  {
   "cell_type": "code",
   "execution_count": 6,
   "id": "2dcd1066",
   "metadata": {},
   "outputs": [
    {
     "name": "stdout",
     "output_type": "stream",
     "text": [
      "Table airnow_hist_raw created or already exists.\n",
      "Loaded 105 rows into airnow_hist_raw.\n"
     ]
    }
   ],
   "source": [
    "# Put all the functions together to create the BigQuery table and load the historical data\n",
    "# First data pull will be YTD (as of 2024-09-02)\n",
    "start_date = '2024-09-02'\n",
    "end_date = '2024-10-06'\n",
    "\n",
    "# Call the function to retrieve data for the specified date range\n",
    "df = get_air_quality_data(start_date, end_date)\n",
    "\n",
    "# Transform the data\n",
    "df_transformed = transform_date_data(df)\n",
    "\n",
    "# Create BigQuery table (only need to use if the table does not exist)\n",
    "create_bq_table(bq_client, 'airnow_raw', 'airnow_hist_raw')\n",
    "\n",
    "# Load data into BigQuery ('airnow_hist_raw')\n",
    "load_data_to_bq(bq_client, df_transformed, 'airnow_raw', 'airnow_hist_raw')"
   ]
  }
 ],
 "metadata": {
  "kernelspec": {
   "display_name": "Python 3 (ipykernel)",
   "language": "python",
   "name": "python3"
  },
  "language_info": {
   "codemirror_mode": {
    "name": "ipython",
    "version": 3
   },
   "file_extension": ".py",
   "mimetype": "text/x-python",
   "name": "python",
   "nbconvert_exporter": "python",
   "pygments_lexer": "ipython3",
   "version": "3.10.9"
  }
 },
 "nbformat": 4,
 "nbformat_minor": 5
}
